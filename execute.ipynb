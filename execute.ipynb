{
 "cells": [
  {
   "cell_type": "code",
   "execution_count": 1,
   "metadata": {},
   "outputs": [],
   "source": [
    "from dotenv import load_dotenv\n",
    "import os\n",
    "\n",
    "# Tải các biến từ tệp .env\n",
    "load_dotenv()\n",
    "\n",
    "# Lấy email và password từ tệp .env\n",
    "email = os.getenv(\"EMAIL\")\n",
    "password = os.getenv(\"PASSWORD\")\n",
    "\n",
    "\n"
   ]
  },
  {
   "cell_type": "code",
   "execution_count": 15,
   "metadata": {},
   "outputs": [],
   "source": [
    "from concurrent.futures import ThreadPoolExecutor\n",
    "import undetected_chromedriver as uc\n",
    "from selenium.webdriver.support.ui import WebDriverWait\n",
    "from webdriver_manager.chrome import ChromeDriverManager\n",
    "from selenium.webdriver.support import expected_conditions as EC\n",
    "from selenium.webdriver.common.by import By\n",
    "from selenium.webdriver.support.ui import Select\n",
    "import time\n",
    "import pandas as pd\n",
    "from typing import Optional, List, Dict\n",
    "\n",
    "class Ratio:\n",
    "    \n",
    "    ratio_target = [\n",
    "        \"Nhóm chỉ số Định giá\",\n",
    "        \"Nhóm chỉ số Sinh lợi\",\n",
    "        \"Nhóm chỉ số Tăng trưởng\",\n",
    "        \"Nhóm chỉ số thanh khoản\",\n",
    "        \"Nhóm chỉ số Hiệu quả hoạt động\",\n",
    "        \"Nhóm chỉ số Đòn bẩy tài chính\",\n",
    "        \"Nhóm chỉ số Dòng tiền\",\n",
    "        \"Cơ cấu Chi phí\",\n",
    "        \"Cơ cấu Tài sản ngắn hạn\",\n",
    "        \"Cơ cấu Tài sản dài hạn\"\n",
    "    ]\n",
    "\n",
    "    def __init__(self):\n",
    "        # Không còn cần ticker_url trong init\n",
    "        chrome_options = uc.ChromeOptions()\n",
    "        self.driver = uc.Chrome(driver_executable_path=ChromeDriverManager().install(), options=chrome_options)\n",
    "        # Điều hướng đến trang chủ Vietstock\n",
    "        self.driver.get(\"https://vietstock.vn\")\n",
    "\n",
    "    def load_page(self, ticker: str):\n",
    "        self.url = f\"https://finance.vietstock.vn/{ticker}/tai-chinh.htm?tab=CSTC\"\n",
    "        self.driver.get(self.url)\n",
    "\n",
    "    def select_period(self, period: str = \"5 Kỳ\"):\n",
    "        try:\n",
    "            period_dropdown = Select(self.driver.find_element(By.NAME, \"period\"))\n",
    "            period_dropdown.select_by_visible_text(period)\n",
    "            WebDriverWait(self.driver, 10).until(\n",
    "                EC.presence_of_element_located((By.CSS_SELECTOR, \"tr.CDKT-row-white-color\"))\n",
    "            )\n",
    "        except Exception as e:\n",
    "            print(f\"Error selecting period: {e}\")\n",
    "\n",
    "    def period_data(self) -> List[str]:\n",
    "        try:\n",
    "            # Đảm bảo rằng bạn tìm phần tử lại trước khi lấy dữ liệu\n",
    "            WebDriverWait(self.driver, 10).until(\n",
    "                EC.presence_of_element_located((By.CSS_SELECTOR, \"table#tbl-data-CSTC thead th.text-center\"))\n",
    "            )\n",
    "            \n",
    "            # Tìm lại các phần tử sau mỗi lần thay đổi DOM\n",
    "            periods = self.driver.find_elements(By.CSS_SELECTOR, \"table#tbl-data-CSTC thead th.text-center\")\n",
    "            periods_list = [period.text for period in periods if period.text]\n",
    "            return periods_list\n",
    "        except Exception as e:\n",
    "            print(f\"Error occurred while fetching periods: {e}\")\n",
    "            return []\n",
    "\n",
    "    def financial_data(self) -> Dict:\n",
    "        financial_data = {}\n",
    "        rows = self.driver.find_elements(By.CSS_SELECTOR, \"tr.CDKT-row-white-color, tr.CDKT-header-blue-color.p1\")\n",
    "        current_group = None\n",
    "        for row in rows:\n",
    "            try:\n",
    "                group_elements = row.find_elements(By.CSS_SELECTOR, \"tr.CDKT-header-blue-color.p1 td.td-stockcode div.report-norm-name\")\n",
    "                if len(group_elements) > 0:\n",
    "                    current_group = group_elements[0].text\n",
    "                    continue\n",
    "\n",
    "                indicator_name = row.find_element(By.CSS_SELECTOR, \"div.report-norm-name span\").text\n",
    "                values = row.find_elements(By.CSS_SELECTOR, \"td.text-right\")\n",
    "                values_list = [value.text for value in values]\n",
    "                financial_data[(current_group, indicator_name)] = values_list\n",
    "            except Exception as e:\n",
    "                print(f\"Error occurred: {e}\")\n",
    "        return financial_data\n",
    "\n",
    "    def create_dataframe(self, periods_list: List[str], financial_data: Dict) -> pd.DataFrame:\n",
    "        multi_index = pd.MultiIndex.from_tuples(list(financial_data.keys()), names=['Group', 'Indicator'])\n",
    "        df = pd.DataFrame(list(financial_data.values()), index=multi_index, columns=periods_list)\n",
    "        return df\n",
    "\n",
    "    # Hàm này thực hiện crawling cho từng mã ticker, lấy dữ liệu và trả về ticker cùng dataframe\n",
    "    def crawl_ticker_thread(self, ticker: str, period: str):\n",
    "        # Bước 1: Tải trang\n",
    "        self.load_page(ticker)\n",
    "\n",
    "        # Chờ trang tải xong bằng cách đợi một phần tử cụ thể xuất hiện, ví dụ: tiêu đề bảng dữ liệu\n",
    "        WebDriverWait(self.driver, 10).until(\n",
    "            EC.presence_of_element_located((By.CSS_SELECTOR, \"table#tbl-data-CSTC\"))\n",
    "        )\n",
    "        \n",
    "        # Bước 2: Chọn kỳ (period)\n",
    "        self.select_period(period)\n",
    "        \n",
    "        # Chờ 3 giây để đảm bảo kỳ đã được chọn và dữ liệu đã được tải lại\n",
    "        time.sleep(3)  # Nếu bạn muốn chờ tĩnh\n",
    "        \n",
    "        # Bước 3: Lấy danh sách các kỳ\n",
    "        periods_list = self.period_data()\n",
    "        \n",
    "        # Chờ thêm 2 giây để đảm bảo dữ liệu đã sẵn sàng\n",
    "        time.sleep(2)\n",
    "\n",
    "        # Bước 4: Lấy dữ liệu tài chính\n",
    "        financial_data = self.financial_data()\n",
    "\n",
    "        # Trả về ticker và dataframe đã tạo\n",
    "        return ticker, self.create_dataframe(periods_list, financial_data)\n",
    "\n",
    "    def crawl_tickers(self, tickers: List[str], period: str = \"5 Kỳ\"):\n",
    "        \"\"\"\n",
    "        Crawl dữ liệu tuần tự cho nhiều mã ticker.\n",
    "        \"\"\"\n",
    "        all_data = {}\n",
    "        \n",
    "        # Thực hiện crawl lần lượt từng mã ticker\n",
    "        for ticker in tickers:\n",
    "            print(f\"Crawling data for ticker: {ticker}\")\n",
    "            ticker, df = self.crawl_ticker_thread(ticker, period)  # Lấy dữ liệu cho từng mã ticker\n",
    "            all_data[ticker] = df  # Lưu kết quả vào dictionary\n",
    "        \n",
    "        return all_data\n",
    "\n",
    "    def export_to_excel(self, data_dict: Dict[str, pd.DataFrame], file_name: str):\n",
    "        with pd.ExcelWriter(file_name, engine='xlsxwriter') as writer:\n",
    "            for ticker, df in data_dict.items():\n",
    "                df.to_excel(writer, sheet_name=ticker)\n",
    "        print(f\"Data exported to {file_name}\")\n",
    "\n",
    "    def login(self,\n",
    "            email: Optional[str] = None,\n",
    "            password: Optional[str] = None\n",
    "        ):\n",
    " \n",
    "        # Step 1: \n",
    "        # Attempt to click on the first login button\n",
    "        try:\n",
    "            self.find_and_interact_button(By.XPATH, locator=\"//a[contains(@class, 'title-link btnlogin')]\", button_name=\"login_first\")\n",
    "        except Exception:\n",
    "            # If the first login button is not found, try clicking on the second login button\n",
    "            self.find_and_interact_button(By.ID, locator=\"btn-request-call-login\", button_name=\"login_second\")\n",
    "\n",
    "        # Click on the Gmail login button\n",
    "        self.find_and_interact_button(By.XPATH, locator=\"//a[contains(@href, 'LoginGooglePlus')]\", wait_time=10, button_name=\"gmail_login\")\n",
    "\n",
    "        # Enter email address in the email input field\n",
    "        self.find_and_interact_button(By.XPATH, locator=\"//input[@type='email']\", wait_time=10, button_name=\"email_input\", value=email)\n",
    "\n",
    "        # Click on the \"Next\" button\n",
    "        self.find_and_interact_button(By.XPATH, locator=\"//span[text()='Tiếp theo']\", wait_time=10, button_name=\"next_button\")\n",
    "\n",
    "        # Enter password in the password input field\n",
    "        self.find_and_interact_button(By.XPATH, locator=\"//input[@type='password']\", button_name=\"password_input\", value=password)\n",
    "\n",
    "        # Click on the \"Next\" button again\n",
    "        self.find_and_interact_button(By.XPATH, locator=\"//span[text()='Tiếp theo']\", wait_time=10, button_name=\"next_button\")\n",
    "\n",
    "        time.sleep(2)\n",
    "\n",
    "    def find_and_interact_button(\n",
    "        self,\n",
    "        query_method: By,\n",
    "        locator: str = None,\n",
    "        value: str = None,\n",
    "        wait_time: int = 30,\n",
    "        button_name: str = None,\n",
    "    ):\n",
    "        if locator is not None: \n",
    "            try:\n",
    "                WebDriverWait(self.driver, wait_time).until(\n",
    "                    EC.element_to_be_clickable((query_method, locator))\n",
    "                )\n",
    "                button = self.driver.find_element(query_method, locator)  \n",
    "                if button.is_displayed() and button.is_enabled() and value is None:\n",
    "                    button.click()\n",
    "                    print(f\"{button_name} is clicked\")\n",
    "                elif button.is_displayed() and button.is_enabled() and value is not None:\n",
    "                    button.send_keys(value)\n",
    "                    print(f\"{button_name} is clicked\")\n",
    "                else:\n",
    "                    print(f\"{button_name} not found, assuming it's already clicked and continuing\")\n",
    "                \n",
    "            except TimeoutError as e:\n",
    "                raise TimeoutError(f\"Element not found or not clickable: {locator}\") from e\n",
    "        else: \n",
    "            raise ValueError(\n",
    "                \"locator must be passed in \"\n",
    "            )\n",
    "        "
   ]
  },
  {
   "cell_type": "code",
   "execution_count": 3,
   "metadata": {},
   "outputs": [],
   "source": [
    "from ratio import Ratio"
   ]
  },
  {
   "cell_type": "code",
   "execution_count": 16,
   "metadata": {},
   "outputs": [],
   "source": [
    "ratio = Ratio()\n"
   ]
  },
  {
   "cell_type": "code",
   "execution_count": 17,
   "metadata": {},
   "outputs": [
    {
     "name": "stdout",
     "output_type": "stream",
     "text": [
      "login_second is clicked\n",
      "gmail_login is clicked\n",
      "email_input is clicked\n",
      "next_button is clicked\n",
      "password_input is clicked\n",
      "next_button is clicked\n"
     ]
    }
   ],
   "source": [
    "ratio.login(email=email, password=password)"
   ]
  },
  {
   "cell_type": "code",
   "execution_count": 5,
   "metadata": {},
   "outputs": [
    {
     "name": "stdout",
     "output_type": "stream",
     "text": [
      "Crawling completed for MSB\n",
      "Crawling completed for FPT\n",
      "Crawling completed for VCB\n",
      "Crawling completed for HDG\n",
      "Crawling completed for MSN\n",
      "Crawling completed for FTS\n",
      "Crawling completed for HPG\n",
      "Crawling completed for VPB\n",
      "Crawling completed for CTG\n",
      "Crawling completed for DGC\n"
     ]
    }
   ],
   "source": [
    "tickers = ['HDG', 'FPT', 'MSN', \"VCB\", \"MSB\", \"FTS\", \"CTG\", \"VPB\", \"HPG\", \"DGC\"]  # Ví dụ danh sách mã cổ phiếu\n",
    "data = ratio.crawl_tickers(tickers, period=\"20 Kỳ\")"
   ]
  },
  {
   "cell_type": "code",
   "execution_count": 7,
   "metadata": {},
   "outputs": [
    {
     "name": "stdout",
     "output_type": "stream",
     "text": [
      "Data exported to financial_data(1).xlsx\n"
     ]
    }
   ],
   "source": [
    "ratio.export_to_excel(data, \"financial_data(1).xlsx\")"
   ]
  },
  {
   "cell_type": "code",
   "execution_count": 53,
   "metadata": {},
   "outputs": [
    {
     "name": "stdout",
     "output_type": "stream",
     "text": [
      "Collecting xlsxwriter\n",
      "  Downloading XlsxWriter-3.2.0-py3-none-any.whl.metadata (2.6 kB)\n",
      "Downloading XlsxWriter-3.2.0-py3-none-any.whl (159 kB)\n",
      "   ---------------------------------------- 0.0/159.9 kB ? eta -:--:--\n",
      "   -- ------------------------------------- 10.2/159.9 kB ? eta -:--:--\n",
      "   -- ------------------------------------- 10.2/159.9 kB ? eta -:--:--\n",
      "   -------------- ------------------------ 61.4/159.9 kB 465.5 kB/s eta 0:00:01\n",
      "   ---------------------- ---------------- 92.2/159.9 kB 476.3 kB/s eta 0:00:01\n",
      "   -------------------------- ----------- 112.6/159.9 kB 544.7 kB/s eta 0:00:01\n",
      "   ---------------------------------- --- 143.4/159.9 kB 532.5 kB/s eta 0:00:01\n",
      "   -------------------------------------- 159.9/159.9 kB 530.8 kB/s eta 0:00:00\n",
      "Installing collected packages: xlsxwriter\n",
      "Successfully installed xlsxwriter-3.2.0\n",
      "Note: you may need to restart the kernel to use updated packages.\n"
     ]
    },
    {
     "name": "stderr",
     "output_type": "stream",
     "text": [
      "\n",
      "[notice] A new release of pip is available: 24.0 -> 24.2\n",
      "[notice] To update, run: python.exe -m pip install --upgrade pip\n"
     ]
    }
   ],
   "source": [
    "pip install xlsxwriter"
   ]
  }
 ],
 "metadata": {
  "kernelspec": {
   "display_name": "Python 3",
   "language": "python",
   "name": "python3"
  },
  "language_info": {
   "codemirror_mode": {
    "name": "ipython",
    "version": 3
   },
   "file_extension": ".py",
   "mimetype": "text/x-python",
   "name": "python",
   "nbconvert_exporter": "python",
   "pygments_lexer": "ipython3",
   "version": "3.12.3"
  }
 },
 "nbformat": 4,
 "nbformat_minor": 2
}
